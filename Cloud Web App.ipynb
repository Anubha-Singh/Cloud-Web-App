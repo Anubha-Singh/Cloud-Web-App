{
 "cells": [
  {
   "cell_type": "code",
   "execution_count": 1,
   "metadata": {},
   "outputs": [
    {
     "name": "stdout",
     "output_type": "stream",
     "text": [
      "Collecting ibm-watson\n",
      "\u001b[?25l  Downloading https://files.pythonhosted.org/packages/36/01/a05ed4557dbeebd95b3dcda2d01ae66f94b1aa4700bc4a8a8713c77cfeda/ibm-watson-4.4.1.tar.gz (366kB)\n",
      "\u001b[K     |████████████████████████████████| 368kB 8.6MB/s eta 0:00:01\n",
      "\u001b[?25hRequirement already satisfied, skipping upgrade: requests<3.0,>=2.0 in /home/jupyterlab/conda/envs/python/lib/python3.6/site-packages (from ibm-watson) (2.23.0)\n",
      "Requirement already satisfied, skipping upgrade: python_dateutil>=2.5.3 in /home/jupyterlab/conda/envs/python/lib/python3.6/site-packages (from ibm-watson) (2.8.1)\n",
      "Collecting websocket-client==0.48.0 (from ibm-watson)\n",
      "\u001b[?25l  Downloading https://files.pythonhosted.org/packages/8a/a1/72ef9aa26cfe1a75cee09fc1957e4723add9de098c15719416a1ee89386b/websocket_client-0.48.0-py2.py3-none-any.whl (198kB)\n",
      "\u001b[K     |████████████████████████████████| 204kB 11.5MB/s eta 0:00:01\n",
      "\u001b[?25hCollecting ibm_cloud_sdk_core==1.5.1 (from ibm-watson)\n",
      "  Downloading https://files.pythonhosted.org/packages/b7/f6/10d5271c807d73d236e6ae07b68035fed78b28b5ab836704d34097af3986/ibm-cloud-sdk-core-1.5.1.tar.gz\n",
      "Requirement already satisfied, skipping upgrade: chardet<4,>=3.0.2 in /home/jupyterlab/conda/envs/python/lib/python3.6/site-packages (from requests<3.0,>=2.0->ibm-watson) (3.0.4)\n",
      "Requirement already satisfied, skipping upgrade: urllib3!=1.25.0,!=1.25.1,<1.26,>=1.21.1 in /home/jupyterlab/conda/envs/python/lib/python3.6/site-packages (from requests<3.0,>=2.0->ibm-watson) (1.25.9)\n",
      "Requirement already satisfied, skipping upgrade: certifi>=2017.4.17 in /home/jupyterlab/conda/envs/python/lib/python3.6/site-packages (from requests<3.0,>=2.0->ibm-watson) (2020.4.5.1)\n",
      "Requirement already satisfied, skipping upgrade: idna<3,>=2.5 in /home/jupyterlab/conda/envs/python/lib/python3.6/site-packages (from requests<3.0,>=2.0->ibm-watson) (2.9)\n",
      "Requirement already satisfied, skipping upgrade: six>=1.5 in /home/jupyterlab/conda/envs/python/lib/python3.6/site-packages (from python_dateutil>=2.5.3->ibm-watson) (1.14.0)\n",
      "Collecting PyJWT>=1.7.1 (from ibm_cloud_sdk_core==1.5.1->ibm-watson)\n",
      "  Downloading https://files.pythonhosted.org/packages/87/8b/6a9f14b5f781697e51259d81657e6048fd31a113229cf346880bb7545565/PyJWT-1.7.1-py2.py3-none-any.whl\n",
      "Building wheels for collected packages: ibm-watson, ibm-cloud-sdk-core\n",
      "  Building wheel for ibm-watson (setup.py) ... \u001b[?25ldone\n",
      "\u001b[?25h  Stored in directory: /home/jupyterlab/.cache/pip/wheels/73/21/91/61a59270c329be2edc947c69871c25c50bf7dd87ebbfe07cdc\n",
      "  Building wheel for ibm-cloud-sdk-core (setup.py) ... \u001b[?25ldone\n",
      "\u001b[?25h  Stored in directory: /home/jupyterlab/.cache/pip/wheels/6a/42/50/f96888116b329578304f9dda4693cef6f3e76e18272d22cb6c\n",
      "Successfully built ibm-watson ibm-cloud-sdk-core\n",
      "Installing collected packages: websocket-client, PyJWT, ibm-cloud-sdk-core, ibm-watson\n",
      "Successfully installed PyJWT-1.7.1 ibm-cloud-sdk-core-1.5.1 ibm-watson-4.4.1 websocket-client-0.48.0\n"
     ]
    }
   ],
   "source": [
    "!pip install --upgrade ibm-watson"
   ]
  },
  {
   "cell_type": "code",
   "execution_count": 39,
   "metadata": {},
   "outputs": [],
   "source": [
    "my_apikey = \"1u_MNLuHOvrMP2T-WPcelYFqhZd_028qCU6e5UpQa0WX\""
   ]
  },
  {
   "cell_type": "code",
   "execution_count": 40,
   "metadata": {},
   "outputs": [],
   "source": [
    "from ibm_watson import VisualRecognitionV3\n",
    "from ibm_cloud_sdk_core.authenticators import IAMAuthenticator\n",
    "authenticator = IAMAuthenticator(my_apikey)\n",
    "\n",
    "visrec = VisualRecognitionV3('2018-03-19', \n",
    "                             authenticator=authenticator)\n"
   ]
  },
  {
   "cell_type": "code",
   "execution_count": 41,
   "metadata": {},
   "outputs": [
    {
     "name": "stdout",
     "output_type": "stream",
     "text": [
      "{\n",
      "  \"classifier_id\": \"FunClassifier_2046767606\",\n",
      "  \"name\": \"FunClassifier\",\n",
      "  \"status\": \"training\",\n",
      "  \"owner\": \"42dd8122-7e5d-47a4-b6bc-498cb3341666\",\n",
      "  \"created\": \"2020-05-19T06:00:58.206Z\",\n",
      "  \"updated\": \"2020-05-19T06:00:58.206Z\",\n",
      "  \"classes\": [\n",
      "    {\n",
      "      \"class\": \"chair\"\n",
      "    },\n",
      "    {\n",
      "      \"class\": \"table\"\n",
      "    },\n",
      "    {\n",
      "      \"class\": \"bed\"\n",
      "    }\n",
      "  ],\n",
      "  \"core_ml_enabled\": true\n",
      "}\n"
     ]
    }
   ],
   "source": [
    "import json\n",
    "with open('bed.zip', 'rb') as bed, \\\n",
    "     open('table.zip', 'rb') as table, \\\n",
    "     open('chair.zip', 'rb') as chair:\n",
    "        response = visrec.create_classifier(name=\"FunClassifier\",\n",
    "                                        positive_examples={'bed': bed, \\\n",
    "                                                           'table': table, \\\n",
    "                                                           'chair': chair})\n",
    "print(json.dumps(response.get_result(), indent=2))"
   ]
  },
  {
   "cell_type": "code",
   "execution_count": 42,
   "metadata": {},
   "outputs": [
    {
     "data": {
      "text/plain": [
       "'FunClassifier_2046767606'"
      ]
     },
     "execution_count": 42,
     "metadata": {},
     "output_type": "execute_result"
    }
   ],
   "source": [
    "classifier_id = response.get_result()[\"classifier_id\"]\n",
    "classifier_id"
   ]
  },
  {
   "cell_type": "code",
   "execution_count": 49,
   "metadata": {},
   "outputs": [
    {
     "name": "stdout",
     "output_type": "stream",
     "text": [
      "Good to go \n"
     ]
    }
   ],
   "source": [
    "Status = visrec.get_classifier(classifier_id=classifier_id, verbose=True).get_result()['status']\n",
    "if Status=='training': \n",
    "    print (\"Please, Wait to complete training.......\")\n",
    "else:\n",
    "    print(\"Good to go \")"
   ]
  },
  {
   "cell_type": "code",
   "execution_count": 50,
   "metadata": {},
   "outputs": [
    {
     "data": {
      "text/plain": [
       "{'classifiers': [{'classifier_id': 'FunClassifier_2046767606',\n",
       "   'name': 'FunClassifier',\n",
       "   'status': 'ready',\n",
       "   'owner': '42dd8122-7e5d-47a4-b6bc-498cb3341666',\n",
       "   'created': '2020-05-19T06:00:58.206Z',\n",
       "   'updated': '2020-05-19T06:00:58.206Z',\n",
       "   'classes': [{'class': 'chair'}, {'class': 'table'}, {'class': 'bed'}],\n",
       "   'core_ml_enabled': True}]}"
      ]
     },
     "execution_count": 50,
     "metadata": {},
     "output_type": "execute_result"
    }
   ],
   "source": [
    "visrec.list_classifiers(verbose=True).get_result()"
   ]
  },
  {
   "cell_type": "code",
   "execution_count": 51,
   "metadata": {},
   "outputs": [],
   "source": [
    "from pandas.io.json import json_normalize\n",
    "\n",
    "def getdf_visrec(url, classifier_ids, apikey = my_apikey):\n",
    "    \n",
    "    json_result = visrec.classify(url=url,\n",
    "                              threshold='0.6',\n",
    "                              classifier_ids=classifier_id).get_result()\n",
    "    \n",
    "    json_classes = json_result['images'][0]['classifiers'][0]['classes']\n",
    "    \n",
    "    df = json_normalize(json_classes).sort_values('score', ascending=False).reset_index(drop=True)\n",
    "    \n",
    "    return df"
   ]
  },
  {
   "cell_type": "code",
   "execution_count": 52,
   "metadata": {},
   "outputs": [
    {
     "name": "stderr",
     "output_type": "stream",
     "text": [
      "/home/jupyterlab/conda/envs/python/lib/python3.6/site-packages/ipykernel_launcher.py:11: FutureWarning: pandas.io.json.json_normalize is deprecated, use pandas.json_normalize instead\n",
      "  # This is added back by InteractiveShellApp.init_path()\n"
     ]
    },
    {
     "data": {
      "text/html": [
       "<div>\n",
       "<style scoped>\n",
       "    .dataframe tbody tr th:only-of-type {\n",
       "        vertical-align: middle;\n",
       "    }\n",
       "\n",
       "    .dataframe tbody tr th {\n",
       "        vertical-align: top;\n",
       "    }\n",
       "\n",
       "    .dataframe thead th {\n",
       "        text-align: right;\n",
       "    }\n",
       "</style>\n",
       "<table border=\"1\" class=\"dataframe\">\n",
       "  <thead>\n",
       "    <tr style=\"text-align: right;\">\n",
       "      <th></th>\n",
       "      <th>class</th>\n",
       "      <th>score</th>\n",
       "    </tr>\n",
       "  </thead>\n",
       "  <tbody>\n",
       "    <tr>\n",
       "      <th>0</th>\n",
       "      <td>chair</td>\n",
       "      <td>0.908</td>\n",
       "    </tr>\n",
       "  </tbody>\n",
       "</table>\n",
       "</div>"
      ],
      "text/plain": [
       "   class  score\n",
       "0  chair  0.908"
      ]
     },
     "execution_count": 52,
     "metadata": {},
     "output_type": "execute_result"
    }
   ],
   "source": [
    "getdf_visrec(url = \"https://images.unsplash.com/photo-1506439773649-6e0eb8cfb237?ixlib=rb-1.2.1&ixid=eyJhcHBfaWQiOjEyMDd9&auto=format&fit=crop&w=500&q=60\",\n",
    "            classifier_ids=classifier_id)\n",
    "            "
   ]
  },
  {
   "cell_type": "code",
   "execution_count": 53,
   "metadata": {},
   "outputs": [
    {
     "name": "stderr",
     "output_type": "stream",
     "text": [
      "/home/jupyterlab/conda/envs/python/lib/python3.6/site-packages/ipykernel_launcher.py:11: FutureWarning: pandas.io.json.json_normalize is deprecated, use pandas.json_normalize instead\n",
      "  # This is added back by InteractiveShellApp.init_path()\n"
     ]
    },
    {
     "data": {
      "text/html": [
       "<div>\n",
       "<style scoped>\n",
       "    .dataframe tbody tr th:only-of-type {\n",
       "        vertical-align: middle;\n",
       "    }\n",
       "\n",
       "    .dataframe tbody tr th {\n",
       "        vertical-align: top;\n",
       "    }\n",
       "\n",
       "    .dataframe thead th {\n",
       "        text-align: right;\n",
       "    }\n",
       "</style>\n",
       "<table border=\"1\" class=\"dataframe\">\n",
       "  <thead>\n",
       "    <tr style=\"text-align: right;\">\n",
       "      <th></th>\n",
       "      <th>class</th>\n",
       "      <th>score</th>\n",
       "    </tr>\n",
       "  </thead>\n",
       "  <tbody>\n",
       "    <tr>\n",
       "      <th>0</th>\n",
       "      <td>bed</td>\n",
       "      <td>0.908</td>\n",
       "    </tr>\n",
       "  </tbody>\n",
       "</table>\n",
       "</div>"
      ],
      "text/plain": [
       "  class  score\n",
       "0   bed  0.908"
      ]
     },
     "execution_count": 53,
     "metadata": {},
     "output_type": "execute_result"
    }
   ],
   "source": [
    "getdf_visrec(url=\"https://images.unsplash.com/photo-1566665797739-1674de7a421a?ixlib=rb-1.2.1&ixid=eyJhcHBfaWQiOjEyMDd9&auto=format&fit=crop&w=667&q=80\",classifier_ids=classifier_id)"
   ]
  },
  {
   "cell_type": "code",
   "execution_count": 54,
   "metadata": {},
   "outputs": [
    {
     "name": "stderr",
     "output_type": "stream",
     "text": [
      "/home/jupyterlab/conda/envs/python/lib/python3.6/site-packages/ipykernel_launcher.py:11: FutureWarning: pandas.io.json.json_normalize is deprecated, use pandas.json_normalize instead\n",
      "  # This is added back by InteractiveShellApp.init_path()\n"
     ]
    },
    {
     "data": {
      "text/html": [
       "<div>\n",
       "<style scoped>\n",
       "    .dataframe tbody tr th:only-of-type {\n",
       "        vertical-align: middle;\n",
       "    }\n",
       "\n",
       "    .dataframe tbody tr th {\n",
       "        vertical-align: top;\n",
       "    }\n",
       "\n",
       "    .dataframe thead th {\n",
       "        text-align: right;\n",
       "    }\n",
       "</style>\n",
       "<table border=\"1\" class=\"dataframe\">\n",
       "  <thead>\n",
       "    <tr style=\"text-align: right;\">\n",
       "      <th></th>\n",
       "      <th>class</th>\n",
       "      <th>score</th>\n",
       "    </tr>\n",
       "  </thead>\n",
       "  <tbody>\n",
       "    <tr>\n",
       "      <th>0</th>\n",
       "      <td>table</td>\n",
       "      <td>0.908</td>\n",
       "    </tr>\n",
       "  </tbody>\n",
       "</table>\n",
       "</div>"
      ],
      "text/plain": [
       "   class  score\n",
       "0  table  0.908"
      ]
     },
     "execution_count": 54,
     "metadata": {},
     "output_type": "execute_result"
    }
   ],
   "source": [
    "getdf_visrec(url=\"https://cdn.imgbin.com/14/10/0/imgbin-bus-table-ticket-fairy-tale-bus-sMrQHLkSA78CxxPJrSCpHYTsY.jpg\",classifier_ids=classifier_id)"
   ]
  },
  {
   "cell_type": "code",
   "execution_count": 55,
   "metadata": {},
   "outputs": [
    {
     "name": "stdout",
     "output_type": "stream",
     "text": [
      "Requirement already satisfied: wget in /home/jupyterlab/conda/envs/python/lib/python3.6/site-packages (3.2)\n"
     ]
    }
   ],
   "source": [
    "!pip install wget"
   ]
  },
  {
   "cell_type": "code",
   "execution_count": 56,
   "metadata": {},
   "outputs": [],
   "source": [
    "import wget, zipfile, os\n",
    "\n",
    "filename = wget.download('https://s3.us.cloud-object-storage.appdomain.cloud/cf-courses-data/CognitiveClass/CV0101/Project/CV0101EN-capstone-project-new.zip')\n",
    "with zipfile.ZipFile(filename,\"r\") as zip_ref:\n",
    "    zip_ref.extractall()"
   ]
  },
  {
   "cell_type": "code",
   "execution_count": 57,
   "metadata": {},
   "outputs": [
    {
     "name": "stdout",
     "output_type": "stream",
     "text": [
      "API endpoint: https://cloud.ibm.com\n",
      "Region: eu-gb\n",
      "\n",
      "Email> anubhabit687@gmail.com\n",
      "\n",
      "Password> \n",
      "Authenticating...\n",
      "OK\n",
      "\n",
      "Targeted account Anubha Singh's Account (0c14d0c12faf4d17b0a428436aeffcd0)\n",
      "\n",
      "                      \n",
      "API endpoint:      https://cloud.ibm.com   \n",
      "Region:               \n",
      "User:              anubhabit687@gmail.com   \n",
      "Account:           Anubha Singh's Account (0c14d0c12faf4d17b0a428436aeffcd0)   \n",
      "Resource group:    No resource group targeted, use 'ibmcloud target -g RESOURCE_GROUP'   \n",
      "CF API endpoint:      \n",
      "Org:                  \n",
      "Space:                \n"
     ]
    }
   ],
   "source": [
    "%%bash\n",
    "ibmcloud config --check-version=false\n",
    "ibmcloud login --no-region\n",
    email,
    password
   ]
  },
  {
   "cell_type": "code",
   "execution_count": 58,
   "metadata": {},
   "outputs": [
    {
     "name": "stdout",
     "output_type": "stream",
     "text": [
      "Getting orgs in all regions as anubhabit687@gmail.com...\n",
      "Retrieving current account...\n",
      "OK\n",
      "\n",
      "Name                     Region   Account owner            Account ID                         Status   \n",
      "anubhabit687@gmail.com   eu-gb    anubhabit687@gmail.com   0c14d0c12faf4d17b0a428436aeffcd0   active   \n",
      "\n"
     ]
    }
   ],
   "source": [
    "%%bash\n",
    "ibmcloud account orgs"
   ]
  },
  {
   "cell_type": "code",
   "execution_count": 59,
   "metadata": {},
   "outputs": [
    {
     "name": "stdout",
     "output_type": "stream",
     "text": [
      "Installed Cloud Foundry CLI version is '6.51.0'. Do you want to install and use latest version? [y/N] > \n"
     ]
    },
    {
     "name": "stderr",
     "output_type": "stream",
     "text": [
      "FAILED\n",
      "Could not read from input: EOF\n",
      "\n"
     ]
    },
    {
     "ename": "CalledProcessError",
     "evalue": "Command 'b'ibmcloud cf install \\n'' returned non-zero exit status 1.",
     "output_type": "error",
     "traceback": [
      "\u001b[0;31m---------------------------------------------------------------------------\u001b[0m",
      "\u001b[0;31mCalledProcessError\u001b[0m                        Traceback (most recent call last)",
      "\u001b[0;32m<ipython-input-59-e1606766fe79>\u001b[0m in \u001b[0;36m<module>\u001b[0;34m\u001b[0m\n\u001b[0;32m----> 1\u001b[0;31m \u001b[0mget_ipython\u001b[0m\u001b[0;34m(\u001b[0m\u001b[0;34m)\u001b[0m\u001b[0;34m.\u001b[0m\u001b[0mrun_cell_magic\u001b[0m\u001b[0;34m(\u001b[0m\u001b[0;34m'bash'\u001b[0m\u001b[0;34m,\u001b[0m \u001b[0;34m''\u001b[0m\u001b[0;34m,\u001b[0m \u001b[0;34m'ibmcloud cf install \\n'\u001b[0m\u001b[0;34m)\u001b[0m\u001b[0;34m\u001b[0m\u001b[0;34m\u001b[0m\u001b[0m\n\u001b[0m",
      "\u001b[0;32m~/conda/envs/python/lib/python3.6/site-packages/IPython/core/interactiveshell.py\u001b[0m in \u001b[0;36mrun_cell_magic\u001b[0;34m(self, magic_name, line, cell)\u001b[0m\n\u001b[1;32m   2360\u001b[0m             \u001b[0;32mwith\u001b[0m \u001b[0mself\u001b[0m\u001b[0;34m.\u001b[0m\u001b[0mbuiltin_trap\u001b[0m\u001b[0;34m:\u001b[0m\u001b[0;34m\u001b[0m\u001b[0;34m\u001b[0m\u001b[0m\n\u001b[1;32m   2361\u001b[0m                 \u001b[0margs\u001b[0m \u001b[0;34m=\u001b[0m \u001b[0;34m(\u001b[0m\u001b[0mmagic_arg_s\u001b[0m\u001b[0;34m,\u001b[0m \u001b[0mcell\u001b[0m\u001b[0;34m)\u001b[0m\u001b[0;34m\u001b[0m\u001b[0;34m\u001b[0m\u001b[0m\n\u001b[0;32m-> 2362\u001b[0;31m                 \u001b[0mresult\u001b[0m \u001b[0;34m=\u001b[0m \u001b[0mfn\u001b[0m\u001b[0;34m(\u001b[0m\u001b[0;34m*\u001b[0m\u001b[0margs\u001b[0m\u001b[0;34m,\u001b[0m \u001b[0;34m**\u001b[0m\u001b[0mkwargs\u001b[0m\u001b[0;34m)\u001b[0m\u001b[0;34m\u001b[0m\u001b[0;34m\u001b[0m\u001b[0m\n\u001b[0m\u001b[1;32m   2363\u001b[0m             \u001b[0;32mreturn\u001b[0m \u001b[0mresult\u001b[0m\u001b[0;34m\u001b[0m\u001b[0;34m\u001b[0m\u001b[0m\n\u001b[1;32m   2364\u001b[0m \u001b[0;34m\u001b[0m\u001b[0m\n",
      "\u001b[0;32m~/conda/envs/python/lib/python3.6/site-packages/IPython/core/magics/script.py\u001b[0m in \u001b[0;36mnamed_script_magic\u001b[0;34m(line, cell)\u001b[0m\n\u001b[1;32m    140\u001b[0m             \u001b[0;32melse\u001b[0m\u001b[0;34m:\u001b[0m\u001b[0;34m\u001b[0m\u001b[0;34m\u001b[0m\u001b[0m\n\u001b[1;32m    141\u001b[0m                 \u001b[0mline\u001b[0m \u001b[0;34m=\u001b[0m \u001b[0mscript\u001b[0m\u001b[0;34m\u001b[0m\u001b[0;34m\u001b[0m\u001b[0m\n\u001b[0;32m--> 142\u001b[0;31m             \u001b[0;32mreturn\u001b[0m \u001b[0mself\u001b[0m\u001b[0;34m.\u001b[0m\u001b[0mshebang\u001b[0m\u001b[0;34m(\u001b[0m\u001b[0mline\u001b[0m\u001b[0;34m,\u001b[0m \u001b[0mcell\u001b[0m\u001b[0;34m)\u001b[0m\u001b[0;34m\u001b[0m\u001b[0;34m\u001b[0m\u001b[0m\n\u001b[0m\u001b[1;32m    143\u001b[0m \u001b[0;34m\u001b[0m\u001b[0m\n\u001b[1;32m    144\u001b[0m         \u001b[0;31m# write a basic docstring:\u001b[0m\u001b[0;34m\u001b[0m\u001b[0;34m\u001b[0m\u001b[0;34m\u001b[0m\u001b[0m\n",
      "\u001b[0;32m<decorator-gen-110>\u001b[0m in \u001b[0;36mshebang\u001b[0;34m(self, line, cell)\u001b[0m\n",
      "\u001b[0;32m~/conda/envs/python/lib/python3.6/site-packages/IPython/core/magic.py\u001b[0m in \u001b[0;36m<lambda>\u001b[0;34m(f, *a, **k)\u001b[0m\n\u001b[1;32m    185\u001b[0m     \u001b[0;31m# but it's overkill for just that one bit of state.\u001b[0m\u001b[0;34m\u001b[0m\u001b[0;34m\u001b[0m\u001b[0;34m\u001b[0m\u001b[0m\n\u001b[1;32m    186\u001b[0m     \u001b[0;32mdef\u001b[0m \u001b[0mmagic_deco\u001b[0m\u001b[0;34m(\u001b[0m\u001b[0marg\u001b[0m\u001b[0;34m)\u001b[0m\u001b[0;34m:\u001b[0m\u001b[0;34m\u001b[0m\u001b[0;34m\u001b[0m\u001b[0m\n\u001b[0;32m--> 187\u001b[0;31m         \u001b[0mcall\u001b[0m \u001b[0;34m=\u001b[0m \u001b[0;32mlambda\u001b[0m \u001b[0mf\u001b[0m\u001b[0;34m,\u001b[0m \u001b[0;34m*\u001b[0m\u001b[0ma\u001b[0m\u001b[0;34m,\u001b[0m \u001b[0;34m**\u001b[0m\u001b[0mk\u001b[0m\u001b[0;34m:\u001b[0m \u001b[0mf\u001b[0m\u001b[0;34m(\u001b[0m\u001b[0;34m*\u001b[0m\u001b[0ma\u001b[0m\u001b[0;34m,\u001b[0m \u001b[0;34m**\u001b[0m\u001b[0mk\u001b[0m\u001b[0;34m)\u001b[0m\u001b[0;34m\u001b[0m\u001b[0;34m\u001b[0m\u001b[0m\n\u001b[0m\u001b[1;32m    188\u001b[0m \u001b[0;34m\u001b[0m\u001b[0m\n\u001b[1;32m    189\u001b[0m         \u001b[0;32mif\u001b[0m \u001b[0mcallable\u001b[0m\u001b[0;34m(\u001b[0m\u001b[0marg\u001b[0m\u001b[0;34m)\u001b[0m\u001b[0;34m:\u001b[0m\u001b[0;34m\u001b[0m\u001b[0;34m\u001b[0m\u001b[0m\n",
      "\u001b[0;32m~/conda/envs/python/lib/python3.6/site-packages/IPython/core/magics/script.py\u001b[0m in \u001b[0;36mshebang\u001b[0;34m(self, line, cell)\u001b[0m\n\u001b[1;32m    243\u001b[0m             \u001b[0msys\u001b[0m\u001b[0;34m.\u001b[0m\u001b[0mstderr\u001b[0m\u001b[0;34m.\u001b[0m\u001b[0mflush\u001b[0m\u001b[0;34m(\u001b[0m\u001b[0;34m)\u001b[0m\u001b[0;34m\u001b[0m\u001b[0;34m\u001b[0m\u001b[0m\n\u001b[1;32m    244\u001b[0m         \u001b[0;32mif\u001b[0m \u001b[0margs\u001b[0m\u001b[0;34m.\u001b[0m\u001b[0mraise_error\u001b[0m \u001b[0;32mand\u001b[0m \u001b[0mp\u001b[0m\u001b[0;34m.\u001b[0m\u001b[0mreturncode\u001b[0m\u001b[0;34m!=\u001b[0m\u001b[0;36m0\u001b[0m\u001b[0;34m:\u001b[0m\u001b[0;34m\u001b[0m\u001b[0;34m\u001b[0m\u001b[0m\n\u001b[0;32m--> 245\u001b[0;31m             \u001b[0;32mraise\u001b[0m \u001b[0mCalledProcessError\u001b[0m\u001b[0;34m(\u001b[0m\u001b[0mp\u001b[0m\u001b[0;34m.\u001b[0m\u001b[0mreturncode\u001b[0m\u001b[0;34m,\u001b[0m \u001b[0mcell\u001b[0m\u001b[0;34m,\u001b[0m \u001b[0moutput\u001b[0m\u001b[0;34m=\u001b[0m\u001b[0mout\u001b[0m\u001b[0;34m,\u001b[0m \u001b[0mstderr\u001b[0m\u001b[0;34m=\u001b[0m\u001b[0merr\u001b[0m\u001b[0;34m)\u001b[0m\u001b[0;34m\u001b[0m\u001b[0;34m\u001b[0m\u001b[0m\n\u001b[0m\u001b[1;32m    246\u001b[0m \u001b[0;34m\u001b[0m\u001b[0m\n\u001b[1;32m    247\u001b[0m     \u001b[0;32mdef\u001b[0m \u001b[0m_run_script\u001b[0m\u001b[0;34m(\u001b[0m\u001b[0mself\u001b[0m\u001b[0;34m,\u001b[0m \u001b[0mp\u001b[0m\u001b[0;34m,\u001b[0m \u001b[0mcell\u001b[0m\u001b[0;34m,\u001b[0m \u001b[0mto_close\u001b[0m\u001b[0;34m)\u001b[0m\u001b[0;34m:\u001b[0m\u001b[0;34m\u001b[0m\u001b[0;34m\u001b[0m\u001b[0m\n",
      "\u001b[0;31mCalledProcessError\u001b[0m: Command 'b'ibmcloud cf install \\n'' returned non-zero exit status 1."
     ]
    }
   ],
   "source": [
    "%%bash\n",
    "ibmcloud cf install "
   ]
  },
  {
   "cell_type": "code",
   "execution_count": 61,
   "metadata": {},
   "outputs": [
    {
     "name": "stdout",
     "output_type": "stream",
     "text": [
      "Switched to region eu-gb\n",
      "\n",
      "Targeted Cloud Foundry (https://api.eu-gb.cf.cloud.ibm.com)\n",
      "\n",
      "Targeted org anubhabit687@gmail.com\n",
      "\n",
      "\n",
      "                      \n",
      "API endpoint:      https://cloud.ibm.com   \n",
      "Region:            eu-gb   \n",
      "User:              anubhabit687@gmail.com   \n",
      "Account:           Anubha Singh's Account (0c14d0c12faf4d17b0a428436aeffcd0)   \n",
      "Resource group:    No resource group targeted, use 'ibmcloud target -g RESOURCE_GROUP'   \n",
      "CF API endpoint:   https://api.eu-gb.cf.cloud.ibm.com (API version: 2.147.0)   \n",
      "Org:               anubhabit687@gmail.com   \n",
      "Space:                \n",
      "Creating space AnubhaBit-computer-vision-app in org anubhabit687@gmail.com as anubhabit687@gmail.com...\n",
      "OK\n",
      "Assigning role SpaceManager to user anubhabit687@gmail.com in org anubhabit687@gmail.com / space AnubhaBit-computer-vision-app as anubhabit687@gmail.com...\n",
      "OK\n",
      "Assigning role SpaceDeveloper to user anubhabit687@gmail.com in org anubhabit687@gmail.com / space AnubhaBit-computer-vision-app as anubhabit687@gmail.com...\n",
      "OK\n",
      "Invoking 'cf help'...\n",
      "\n",
      "cf version 6.51.0+2acd15650.2020-04-07, Cloud Foundry command line tool\n",
      "Usage: cf [global options] command [arguments...] [command options]\n",
      "\n",
      "Before getting started:\n",
      "  config    login,l      target,t\n",
      "  help,h    logout,lo    \n",
      "\n",
      "Application lifecycle:\n",
      "  apps,a        run-task,rt    events\n",
      "  push,p        logs           set-env,se\n",
      "  start,st      ssh            create-app-manifest\n",
      "  stop,sp       app            delete,d\n",
      "  restart,rs    env,e          \n",
      "  restage,rg    scale          \n",
      "\n",
      "Services integration:\n",
      "  marketplace,m        create-user-provided-service,cups\n",
      "  services,s           update-user-provided-service,uups\n",
      "  create-service,cs    create-service-key,csk\n",
      "  update-service       delete-service-key,dsk\n",
      "  delete-service,ds    service-keys,sk\n",
      "  service              service-key\n",
      "  bind-service,bs      bind-route-service,brs\n",
      "  unbind-service,us    unbind-route-service,urs\n",
      "\n",
      "Route and domain management:\n",
      "  routes,r        delete-route    create-domain\n",
      "  domains         map-route       \n",
      "  create-route    unmap-route     \n",
      "\n",
      "Space management:\n",
      "  spaces         create-space    set-space-role\n",
      "  space-users    delete-space    unset-space-role\n",
      "\n",
      "Org management:\n",
      "  orgs,o       set-org-role\n",
      "  org-users    unset-org-role\n",
      "\n",
      "CLI plugin management:\n",
      "  plugins           add-plugin-repo      repo-plugins\n",
      "  install-plugin    list-plugin-repos    \n",
      "\n",
      "Commands offered by installed plugins:\n",
      "\n",
      "Global options:\n",
      "  --help, -h                         Show help\n",
      "  -v                                 Print API request diagnostics to stdout\n",
      "\n",
      "TIP: Use 'cf help -a' to see all commands.\n",
      "Use 'ibmcloud cf install' to install and use a different version of Cloud Foundry CLI.\n"
     ]
    }
   ],
   "source": [
    "%%bash\n",
    "ibmcloud target --cf-api https://api.eu-gb.cf.cloud.ibm.com -r eu-gb -o anubhabit687@gmail.com\n",
    "ibmcloud account space-create AnubhaBit-computer-vision-app\n",
    "ibmcloud cf"
   ]
  },
  {
   "cell_type": "code",
   "execution_count": 62,
   "metadata": {},
   "outputs": [
    {
     "name": "stdout",
     "output_type": "stream",
     "text": [
      "Targeted space AnubhaBit-computer-vision-app\n",
      "\n",
      "\n",
      "                      \n",
      "API endpoint:      https://cloud.ibm.com   \n",
      "Region:            eu-gb   \n",
      "User:              anubhabit687@gmail.com   \n",
      "Account:           Anubha Singh's Account (0c14d0c12faf4d17b0a428436aeffcd0)   \n",
      "Resource group:    No resource group targeted, use 'ibmcloud target -g RESOURCE_GROUP'   \n",
      "CF API endpoint:   https://api.eu-gb.cf.cloud.ibm.com (API version: 2.147.0)   \n",
      "Org:               anubhabit687@gmail.com   \n",
      "Space:             AnubhaBit-computer-vision-app   \n"
     ]
    }
   ],
   "source": [
    "%%bash\n",
    "ibmcloud target -s AnubhaBit-computer-vision-app"
   ]
  },
  {
   "cell_type": "code",
   "execution_count": 63,
   "metadata": {},
   "outputs": [
    {
     "name": "stdout",
     "output_type": "stream",
     "text": [
      "Invoking 'cf push'...\n",
      "\n",
      "Pushing from manifest to org anubhabit687@gmail.com / space AnubhaBit-computer-vision-app as anubhabit687@gmail.com...\n",
      "Using manifest file /resources/labs/CV0101EN/CV0101EN-capstone-project/app/manifest.yml\n",
      "Getting app info...\n",
      "Creating app with these attributes...\n",
      "+ name:       AnubhaBit-computer-vision-app\n",
      "  path:       /resources/labs/CV0101EN/CV0101EN-capstone-project/app\n",
      "+ memory:     128M\n",
      "  routes:\n",
      "+   anubhabit-computer-vision-app.eu-gb.mybluemix.net\n",
      "\n",
      "Creating app AnubhaBit-computer-vision-app...\n",
      "Mapping routes...\n",
      "Comparing local files to remote cache...\n",
      "Packaging files to upload...\n",
      "Uploading files...\n",
      " 22.51 KiB / 22.51 KiB  100.00% 1s\n",
      "\n",
      "Waiting for API to complete processing files...\n",
      "\n",
      "Staging app and tracing logs...\n",
      "   Downloading liberty-for-java_v3_44-20200430-1451...\n",
      "   Downloading python_buildpack...\n",
      "   Downloading nginx_buildpack...\n",
      "   Downloading php_buildpack...\n",
      "   Downloading sdk-for-nodejs_v4_2_1-20200420-1206...\n",
      "   Downloaded php_buildpack\n",
      "   Downloading binary_buildpack...\n",
      "   Downloaded liberty-for-java_v3_44-20200430-1451\n",
      "   Downloaded nginx_buildpack\n",
      "   Downloaded python_buildpack\n",
      "   Downloading r_buildpack...\n",
      "   Downloading swift_buildpack_v2_0_20-20190401-2122...\n",
      "   Downloading swift_buildpack_v2_0_18-20190303-1915...\n",
      "   Downloaded sdk-for-nodejs_v4_2_1-20200420-1206\n",
      "   Downloading swift_buildpack_cflinuxfs3_v2_1_0-20190404-1206...\n",
      "   Downloaded swift_buildpack_v2_0_20-20190401-2122\n",
      "   Downloading sdk-for-nodejs_v4_2-20200227-1649...\n",
      "   Downloaded r_buildpack\n",
      "   Downloading xpages_buildpack...\n",
      "   Downloaded swift_buildpack_cflinuxfs3_v2_1_0-20190404-1206\n",
      "   Downloading dotnet-core_v2_6-20200424-1047...\n",
      "   Downloaded swift_buildpack_v2_0_18-20190303-1915\n",
      "   Downloaded binary_buildpack\n",
      "   Downloading dotnet-core_v2_5-20191209-1920...\n",
      "   Downloading liberty-for-java...\n",
      "   Downloaded dotnet-core_v2_6-20200424-1047\n",
      "   Downloading liberty-for-java_v3_43-20200406-1631...\n",
      "   Downloaded sdk-for-nodejs_v4_2-20200227-1649\n",
      "   Downloading sdk-for-nodejs...\n",
      "   Downloaded xpages_buildpack\n",
      "   Downloading java_buildpack...\n",
      "   Downloaded dotnet-core_v2_5-20191209-1920\n",
      "   Downloading dotnet-core...\n",
      "   Downloaded liberty-for-java\n",
      "   Downloading xpages_buildpack_v1_2_1-20160913-103...\n",
      "   Downloaded sdk-for-nodejs\n",
      "   Downloading swift_buildpack...\n",
      "   Downloaded liberty-for-java_v3_43-20200406-1631\n",
      "   Downloading staticfile_buildpack...\n",
      "   Downloaded dotnet-core\n",
      "   Downloaded xpages_buildpack_v1_2_1-20160913-103\n",
      "   Downloading ruby_buildpack...\n",
      "   Downloading nodejs_buildpack...\n",
      "   Downloaded java_buildpack\n",
      "   Downloading go_buildpack...\n",
      "   Downloaded swift_buildpack\n",
      "   Downloaded ruby_buildpack\n",
      "   Downloaded staticfile_buildpack\n",
      "   Downloaded nodejs_buildpack\n",
      "   Downloaded go_buildpack\n",
      "   Cell 93031588-3d1d-4920-9a21-7490000a2b07 creating container for instance 391df36b-3907-41db-9973-0e06a40cf04c\n",
      "   Cell 93031588-3d1d-4920-9a21-7490000a2b07 successfully created container for instance 391df36b-3907-41db-9973-0e06a40cf04c\n",
      "   Downloading app package...\n",
      "   Downloaded app package (22.5K)\n",
      "   -----> Python Buildpack version 1.7.12\n",
      "   -----> Supplying Python\n",
      "   -----> Installing python 3.6.9\n",
      "          Download [https://buildpacks.cloudfoundry.org/dependencies/python/python-3.6.9-linux-x64-cflinuxfs3-f30bc832.tgz]\n",
      "          \u001b[31;1m**WARNING**\u001b[0m A newer version of python is available in this buildpack. Please adjust your app to use version 3.6.10 instead of version 3.6.9 as soon as possible. Old versions of python are only provided to assist in migrating to newer versions.\n",
      "   -----> Installing pip-pop 0.1.4\n",
      "          Download [https://buildpacks.cloudfoundry.org/dependencies/manual-binaries/pip-pop/pip-pop-0.1.4-0a3b0f1b.tar.gz]\n",
      "   -----> Running Pip Install\n",
      "          Collecting Flask==1.0.3 (from -r /tmp/app/requirements.txt (line 1))\n",
      "            Downloading https://files.pythonhosted.org/packages/9a/74/670ae9737d14114753b8c8fdf2e8bd212a05d3b361ab15b44937dfd40985/Flask-1.0.3-py2.py3-none-any.whl (92kB)\n",
      "          Collecting Flask-WTF==0.14.2 (from -r /tmp/app/requirements.txt (line 2))\n",
      "            Downloading https://files.pythonhosted.org/packages/60/3a/58c629472d10539ae5167dc7c1fecfa95dd7d0b7864623931e3776438a24/Flask_WTF-0.14.2-py2.py3-none-any.whl\n",
      "          Collecting ibm-watson==4.0.1 (from -r /tmp/app/requirements.txt (line 3))\n",
      "            Downloading https://files.pythonhosted.org/packages/d0/30/6e444a420b533b53e6b8ab4318ce1a9b19662067515aca0351403bdb615c/ibm-watson-4.0.1.tar.gz (297kB)\n",
      "          Collecting python-dotenv==0.10.3 (from -r /tmp/app/requirements.txt (line 4))\n",
      "            Downloading https://files.pythonhosted.org/packages/57/c8/5b14d5cffe7bb06bedf9d66c4562bf90330d3d35e7f0266928c370d9dd6d/python_dotenv-0.10.3-py2.py3-none-any.whl\n",
      "          Collecting werkzeug==0.16.1 (from -r /tmp/app/requirements.txt (line 5))\n",
      "            Downloading https://files.pythonhosted.org/packages/c2/e4/a859d2fe516f466642fa5c6054fd9646271f9da26b0cac0d2f37fc858c8f/Werkzeug-0.16.1-py2.py3-none-any.whl (327kB)\n",
      "          Collecting Jinja2>=2.10 (from Flask==1.0.3->-r /tmp/app/requirements.txt (line 1))\n",
      "            Downloading https://files.pythonhosted.org/packages/30/9e/f663a2aa66a09d838042ae1a2c5659828bb9b41ea3a6efa20a20fd92b121/Jinja2-2.11.2-py2.py3-none-any.whl (125kB)\n",
      "          Collecting itsdangerous>=0.24 (from Flask==1.0.3->-r /tmp/app/requirements.txt (line 1))\n",
      "            Downloading https://files.pythonhosted.org/packages/76/ae/44b03b253d6fade317f32c24d100b3b35c2239807046a4c953c7b89fa49e/itsdangerous-1.1.0-py2.py3-none-any.whl\n",
      "          Collecting click>=5.1 (from Flask==1.0.3->-r /tmp/app/requirements.txt (line 1))\n",
      "            Downloading https://files.pythonhosted.org/packages/d2/3d/fa76db83bf75c4f8d338c2fd15c8d33fdd7ad23a9b5e57eb6c5de26b430e/click-7.1.2-py2.py3-none-any.whl (82kB)\n",
      "          Collecting WTForms (from Flask-WTF==0.14.2->-r /tmp/app/requirements.txt (line 2))\n",
      "            Downloading https://files.pythonhosted.org/packages/f0/1b/af089b3d54955e0a3b0045ddd40773c2ef5dc7375ccffd09366ce469b755/WTForms-2.3.1-py2.py3-none-any.whl (169kB)\n",
      "          Collecting requests<3.0,>=2.0 (from ibm-watson==4.0.1->-r /tmp/app/requirements.txt (line 3))\n",
      "            Downloading https://files.pythonhosted.org/packages/1a/70/1935c770cb3be6e3a8b78ced23d7e0f3b187f5cbfab4749523ed65d7c9b1/requests-2.23.0-py2.py3-none-any.whl (58kB)\n",
      "          Collecting python_dateutil>=2.5.3 (from ibm-watson==4.0.1->-r /tmp/app/requirements.txt (line 3))\n",
      "            Downloading https://files.pythonhosted.org/packages/d4/70/d60450c3dd48ef87586924207ae8907090de0b306af2bce5d134d78615cb/python_dateutil-2.8.1-py2.py3-none-any.whl (227kB)\n",
      "          Collecting websocket-client==0.48.0 (from ibm-watson==4.0.1->-r /tmp/app/requirements.txt (line 3))\n",
      "            Downloading https://files.pythonhosted.org/packages/8a/a1/72ef9aa26cfe1a75cee09fc1957e4723add9de098c15719416a1ee89386b/websocket_client-0.48.0-py2.py3-none-any.whl (198kB)\n",
      "          Collecting ibm_cloud_sdk_core==1.0.0 (from ibm-watson==4.0.1->-r /tmp/app/requirements.txt (line 3))\n",
      "            Downloading https://files.pythonhosted.org/packages/e8/43/a13a5956c69b7becce7a0df6d2340c1e32322df3b39f57a3b33dc4645a34/ibm-cloud-sdk-core-1.0.0.tar.gz\n",
      "          Collecting MarkupSafe>=0.23 (from Jinja2>=2.10->Flask==1.0.3->-r /tmp/app/requirements.txt (line 1))\n",
      "            Downloading https://files.pythonhosted.org/packages/b2/5f/23e0023be6bb885d00ffbefad2942bc51a620328ee910f64abe5a8d18dd1/MarkupSafe-1.1.1-cp36-cp36m-manylinux1_x86_64.whl\n",
      "          Collecting chardet<4,>=3.0.2 (from requests<3.0,>=2.0->ibm-watson==4.0.1->-r /tmp/app/requirements.txt (line 3))\n",
      "            Downloading https://files.pythonhosted.org/packages/bc/a9/01ffebfb562e4274b6487b4bb1ddec7ca55ec7510b22e4c51f14098443b8/chardet-3.0.4-py2.py3-none-any.whl (133kB)\n",
      "          Collecting urllib3!=1.25.0,!=1.25.1,<1.26,>=1.21.1 (from requests<3.0,>=2.0->ibm-watson==4.0.1->-r /tmp/app/requirements.txt (line 3))\n",
      "            Downloading https://files.pythonhosted.org/packages/e1/e5/df302e8017440f111c11cc41a6b432838672f5a70aa29227bf58149dc72f/urllib3-1.25.9-py2.py3-none-any.whl (126kB)\n",
      "          Collecting idna<3,>=2.5 (from requests<3.0,>=2.0->ibm-watson==4.0.1->-r /tmp/app/requirements.txt (line 3))\n",
      "            Downloading https://files.pythonhosted.org/packages/89/e3/afebe61c546d18fb1709a61bee788254b40e736cff7271c7de5de2dc4128/idna-2.9-py2.py3-none-any.whl (58kB)\n",
      "          Collecting certifi>=2017.4.17 (from requests<3.0,>=2.0->ibm-watson==4.0.1->-r /tmp/app/requirements.txt (line 3))\n",
      "            Downloading https://files.pythonhosted.org/packages/57/2b/26e37a4b034800c960a00c4e1b3d9ca5d7014e983e6e729e33ea2f36426c/certifi-2020.4.5.1-py2.py3-none-any.whl (157kB)\n",
      "          Collecting six>=1.5 (from python_dateutil>=2.5.3->ibm-watson==4.0.1->-r /tmp/app/requirements.txt (line 3))\n",
      "            Downloading https://files.pythonhosted.org/packages/65/eb/1f97cb97bfc2390a276969c6fae16075da282f5058082d4cb10c6c5c1dba/six-1.14.0-py2.py3-none-any.whl\n",
      "          Collecting PyJWT>=1.7.1 (from ibm_cloud_sdk_core==1.0.0->ibm-watson==4.0.1->-r /tmp/app/requirements.txt (line 3))\n",
      "            Downloading https://files.pythonhosted.org/packages/87/8b/6a9f14b5f781697e51259d81657e6048fd31a113229cf346880bb7545565/PyJWT-1.7.1-py2.py3-none-any.whl\n",
      "          Installing collected packages: MarkupSafe, Jinja2, itsdangerous, click, werkzeug, Flask, WTForms, Flask-WTF, chardet, urllib3, idna, certifi, requests, six, python-dateutil, websocket-client, PyJWT, ibm-cloud-sdk-core, ibm-watson, python-dotenv\n",
      "            The script flask is installed in '/tmp/contents095523448/deps/0/python/bin' which is not on PATH.\n",
      "            Consider adding this directory to PATH or, if you prefer to suppress this warning, use --no-warn-script-location.\n",
      "            The script chardetect is installed in '/tmp/contents095523448/deps/0/python/bin' which is not on PATH.\n",
      "            Consider adding this directory to PATH or, if you prefer to suppress this warning, use --no-warn-script-location.\n",
      "            The script pyjwt is installed in '/tmp/contents095523448/deps/0/python/bin' which is not on PATH.\n",
      "            Consider adding this directory to PATH or, if you prefer to suppress this warning, use --no-warn-script-location.\n",
      "            Running setup.py install for ibm-cloud-sdk-core: started\n",
      "              Running setup.py install for ibm-cloud-sdk-core: finished with status 'done'\n",
      "            Running setup.py install for ibm-watson: started\n",
      "              Running setup.py install for ibm-watson: finished with status 'done'\n",
      "            The script dotenv is installed in '/tmp/contents095523448/deps/0/python/bin' which is not on PATH.\n",
      "            Consider adding this directory to PATH or, if you prefer to suppress this warning, use --no-warn-script-location.\n",
      "          Successfully installed Flask-1.0.3 Flask-WTF-0.14.2 Jinja2-2.11.2 MarkupSafe-1.1.1 PyJWT-1.7.1 WTForms-2.3.1 certifi-2020.4.5.1 chardet-3.0.4 click-7.1.2 ibm-cloud-sdk-core-1.0.0 ibm-watson-4.0.1 idna-2.9 itsdangerous-1.1.0 python-dateutil-2.8.1 python-dotenv-0.10.3 requests-2.23.0 six-1.14.0 urllib3-1.25.9 websocket-client-0.48.0 werkzeug-0.16.1\n",
      "          You are using pip version 18.1, however version 20.1 is available.\n",
      "          You should consider upgrading via the 'pip install --upgrade pip' command.\n",
      "   Exit status 0\n",
      "   Uploading droplet, build artifacts cache...\n",
      "   Uploading droplet...\n",
      "   Uploading build artifacts cache...\n",
      "   Uploaded build artifacts cache (50.4M)\n",
      "   Uploaded droplet (51.9M)\n",
      "   Uploading complete\n",
      "   Cell 93031588-3d1d-4920-9a21-7490000a2b07 stopping instance 391df36b-3907-41db-9973-0e06a40cf04c\n",
      "   Cell 93031588-3d1d-4920-9a21-7490000a2b07 destroying container for instance 391df36b-3907-41db-9973-0e06a40cf04c\n",
      "   Cell 93031588-3d1d-4920-9a21-7490000a2b07 successfully destroyed container for instance 391df36b-3907-41db-9973-0e06a40cf04c\n",
      "\n",
      "Waiting for app to start...\n",
      "\n",
      "name:              AnubhaBit-computer-vision-app\n",
      "requested state:   started\n",
      "routes:            anubhabit-computer-vision-app.eu-gb.mybluemix.net\n",
      "last uploaded:     Tue 19 May 08:36:46 UTC 2020\n",
      "stack:             cflinuxfs3\n",
      "buildpacks:        python\n",
      "\n",
      "type:            web\n",
      "instances:       1/1\n",
      "memory usage:    128M\n",
      "start command:   python3 server.py\n",
      "     state     since                  cpu    memory         disk           details\n",
      "#0   running   2020-05-19T08:37:06Z   0.0%   1.7M of 128M   188.5M of 1G   \n",
      "\n"
     ]
    }
   ],
   "source": [
    "%%bash\n",
    "cd /resources/labs/CV0101EN/CV0101EN-capstone-project/app\n",
    "ibmcloud app push"
   ]
  },
  {
   "cell_type": "code",
   "execution_count": null,
   "metadata": {},
   "outputs": [],
   "source": []
  }
 ],
 "metadata": {
  "kernelspec": {
   "display_name": "Python",
   "language": "python",
   "name": "conda-env-python-py"
  },
  "language_info": {
   "codemirror_mode": {
    "name": "ipython",
    "version": 3
   },
   "file_extension": ".py",
   "mimetype": "text/x-python",
   "name": "python",
   "nbconvert_exporter": "python",
   "pygments_lexer": "ipython3",
   "version": "3.6.10"
  }
 },
 "nbformat": 4,
 "nbformat_minor": 4
}
